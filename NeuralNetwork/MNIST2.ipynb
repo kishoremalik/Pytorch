{
  "nbformat": 4,
  "nbformat_minor": 0,
  "metadata": {
    "colab": {
      "name": "MNIST2.ipynb",
      "version": "0.3.2",
      "provenance": []
    },
    "kernelspec": {
      "name": "python3",
      "display_name": "Python 3"
    }
  },
  "cells": [
    {
      "metadata": {
        "id": "xlw24eNcZ_yp",
        "colab_type": "code",
        "colab": {}
      },
      "cell_type": "code",
      "source": [
        "# http://pytorch.org/\n",
        "from os.path import exists\n",
        "from wheel.pep425tags import get_abbr_impl, get_impl_ver, get_abi_tag\n",
        "platform = '{}{}-{}'.format(get_abbr_impl(), get_impl_ver(), get_abi_tag())\n",
        "cuda_output = !ldconfig -p|grep cudart.so|sed -e 's/.*\\.\\([0-9]*\\)\\.\\([0-9]*\\)$/cu\\1\\2/'\n",
        "accelerator = cuda_output[0] if exists('/dev/nvidia0') else 'cpu'\n",
        "\n",
        "!pip install -q http://download.pytorch.org/whl/{accelerator}/torch-0.4.1-{platform}-linux_x86_64.whl torchvision\n",
        "import torch\n",
        "import numpy as np\n",
        "import torch.nn as nn\n",
        "import torchvision.datasets as datasets\n",
        "import torchvision.transforms as transforms\n",
        "from torch.autograd import Variable"
      ],
      "execution_count": 0,
      "outputs": []
    },
    {
      "metadata": {
        "id": "H4Murf34ak8b",
        "colab_type": "code",
        "colab": {}
      },
      "cell_type": "code",
      "source": [
        "# parametrs \n",
        "input_size=784  # input size of the image (28*28=784)\n",
        "hidden_size=400 # hiiden layer neuron size\n",
        "out_size=10  # out put layer label size\n",
        "epochs=30     \n",
        "batch_size=100    \n",
        "learning_rate=0.001"
      ],
      "execution_count": 0,
      "outputs": []
    },
    {
      "metadata": {
        "id": "2e3cOBq7apMq",
        "colab_type": "code",
        "colab": {
          "base_uri": "https://localhost:8080/",
          "height": 119
        },
        "outputId": "1180f721-1509-4cc0-8058-2dc04666d70f"
      },
      "cell_type": "code",
      "source": [
        "train_dataset=datasets.MNIST(root='.\\data', train=True, transform=transforms.ToTensor(),download=True)\n",
        "test_dataset=datasets.MNIST(root='.\\data', train=False, transform=transforms.ToTensor())"
      ],
      "execution_count": 7,
      "outputs": [
        {
          "output_type": "stream",
          "text": [
            "Downloading http://yann.lecun.com/exdb/mnist/train-images-idx3-ubyte.gz\n",
            "Downloading http://yann.lecun.com/exdb/mnist/train-labels-idx1-ubyte.gz\n",
            "Downloading http://yann.lecun.com/exdb/mnist/t10k-images-idx3-ubyte.gz\n",
            "Downloading http://yann.lecun.com/exdb/mnist/t10k-labels-idx1-ubyte.gz\n",
            "Processing...\n",
            "Done!\n"
          ],
          "name": "stdout"
        }
      ]
    },
    {
      "metadata": {
        "id": "jtry_uQdavQ1",
        "colab_type": "code",
        "colab": {}
      },
      "cell_type": "code",
      "source": [
        "# make data itrable to loading it to a loader,  shuffle the training data to make it independent of the order\n",
        "train_loader=torch.utils.data.DataLoader(dataset=train_dataset,batch_size=batch_size, shuffle=True)\n",
        "test_loader=torch.utils.data.DataLoader(dataset=test_dataset, batch_size=batch_size, shuffle=False)\n"
      ],
      "execution_count": 0,
      "outputs": []
    },
    {
      "metadata": {
        "id": "wolITMrre4yF",
        "colab_type": "code",
        "colab": {
          "base_uri": "https://localhost:8080/",
          "height": 51
        },
        "outputId": "71c56707-f208-4930-ae1a-dec98ff5cc92"
      },
      "cell_type": "code",
      "source": [
        "print(len(train_loader))\n",
        "print(len(train_loader))"
      ],
      "execution_count": 9,
      "outputs": [
        {
          "output_type": "stream",
          "text": [
            "600\n",
            "600\n"
          ],
          "name": "stdout"
        }
      ]
    },
    {
      "metadata": {
        "id": "MAtbdkcfa1qu",
        "colab_type": "code",
        "colab": {}
      },
      "cell_type": "code",
      "source": [
        "# Neural Net Initialization\n",
        "class Net(nn.Module):\n",
        "    def __init__(self,input_size,hidden_size,out_size):\n",
        "        super(Net, self).__init__()\n",
        "        self.fc1=nn.Linear(input_size, hidden_size) # first Layer\n",
        "        self.relu=nn.ReLU()\n",
        "        self.fc2=nn.Linear(hidden_size,hidden_size) # hidden Layer1\n",
        "        self.fc3=nn.Linear(hidden_size,out_size)\n",
        "    def forward(self, x):\n",
        "        out=self.fc1(x)\n",
        "        out=self.relu(out)\n",
        "        out=self.fc2(out)\n",
        "        out=self.relu(out)\n",
        "        out=self.fc3(out)\n",
        "        return out\n"
      ],
      "execution_count": 0,
      "outputs": []
    },
    {
      "metadata": {
        "id": "Bl5RvuXda-_G",
        "colab_type": "code",
        "colab": {}
      },
      "cell_type": "code",
      "source": [
        "# create an object of  a class\n",
        "net=Net(input_size,hidden_size,out_size)\n",
        "CUDA=torch.cuda.is_available()\n",
        "if CUDA:\n",
        "    net=net.cuda()\n",
        "# the LOSS function comes along softmax, no need to declare loss function\n",
        "criterian=nn.CrossEntropyLoss()\n",
        "optimizer=torch.optim.Adam(net.parameters(), lr=learning_rate)\n"
      ],
      "execution_count": 0,
      "outputs": []
    },
    {
      "metadata": {
        "id": "_ichSaoCbCXL",
        "colab_type": "code",
        "colab": {
          "base_uri": "https://localhost:8080/",
          "height": 3114
        },
        "outputId": "40bc315d-c88b-457e-e0af-2aace68e8e13"
      },
      "cell_type": "code",
      "source": [
        "# training\n",
        "correct_train=0\n",
        "total_train=0\n",
        "for epoch in range(epochs):\n",
        "    for i, (images,labels) in enumerate(train_loader):\n",
        "        # flattern the image from(batch,1,28,28) -->(100,1,28,28) where 1 represent the channel gray scale\n",
        "        # to size (100,784) and wrap it in avariable\n",
        "        images=Variable(images.view(-1,28*28))\n",
        "        labels=Variable(labels)\n",
        "        \n",
        "        if CUDA:\n",
        "            images=images.cuda()\n",
        "            labels=labels.cuda()\n",
        "        # clear the param_grad in param=param - lr*param_grad so it wont accumulated\n",
        "        optimizer.zero_grad()\n",
        "        outputs=net(images)  # forward pass\n",
        "        _,predicted=torch.max(outputs.data,1) # prediction\n",
        "        total_train +=labels.size(0)\n",
        "        if CUDA:\n",
        "            correct_train +=(predicted.cpu()==labels.cpu()).sum()\n",
        "        else:\n",
        "            correct_train +=(predicted==labels).sum()\n",
        "        loss=criterian(outputs,labels)   # difference between actual and predicted(loss function)\n",
        "        loss.backward()  # backpropagation\n",
        "        optimizer.step()  # update the weights\n",
        "        if (i+1)%100==0 :\n",
        "            print('epoch[{}/{}],Iteration[{}/{}],trainingloss :{},trainingAccuracy:{}%'.format(epoch+1,epochs,i+1,len(train_dataset)//batch_size,loss.data[0],(100*correct_train/total_train)))\n",
        "        "
      ],
      "execution_count": 12,
      "outputs": [
        {
          "output_type": "stream",
          "text": [
            "/usr/local/lib/python3.6/dist-packages/ipykernel_launcher.py:26: UserWarning: invalid index of a 0-dim tensor. This will be an error in PyTorch 0.5. Use tensor.item() to convert a 0-dim tensor to a Python number\n"
          ],
          "name": "stderr"
        },
        {
          "output_type": "stream",
          "text": [
            "epoch[1/30],Iteration[100/600],trainingloss :0.30798834562301636,trainingAccuracy:82%\n",
            "epoch[1/30],Iteration[200/600],trainingloss :0.22854702174663544,trainingAccuracy:86%\n",
            "epoch[1/30],Iteration[300/600],trainingloss :0.1981799453496933,trainingAccuracy:89%\n",
            "epoch[1/30],Iteration[400/600],trainingloss :0.15040524303913116,trainingAccuracy:90%\n",
            "epoch[1/30],Iteration[500/600],trainingloss :0.09021374583244324,trainingAccuracy:91%\n",
            "epoch[1/30],Iteration[600/600],trainingloss :0.08337249606847763,trainingAccuracy:92%\n",
            "epoch[2/30],Iteration[100/600],trainingloss :0.2190277874469757,trainingAccuracy:92%\n",
            "epoch[2/30],Iteration[200/600],trainingloss :0.06463165581226349,trainingAccuracy:93%\n",
            "epoch[2/30],Iteration[300/600],trainingloss :0.034868475049734116,trainingAccuracy:93%\n",
            "epoch[2/30],Iteration[400/600],trainingloss :0.08129429817199707,trainingAccuracy:94%\n",
            "epoch[2/30],Iteration[500/600],trainingloss :0.09453517198562622,trainingAccuracy:94%\n",
            "epoch[2/30],Iteration[600/600],trainingloss :0.04430421441793442,trainingAccuracy:94%\n",
            "epoch[3/30],Iteration[100/600],trainingloss :0.024874761700630188,trainingAccuracy:94%\n",
            "epoch[3/30],Iteration[200/600],trainingloss :0.10851854085922241,trainingAccuracy:95%\n",
            "epoch[3/30],Iteration[300/600],trainingloss :0.06446139514446259,trainingAccuracy:95%\n",
            "epoch[3/30],Iteration[400/600],trainingloss :0.10601180046796799,trainingAccuracy:95%\n",
            "epoch[3/30],Iteration[500/600],trainingloss :0.15135912597179413,trainingAccuracy:95%\n",
            "epoch[3/30],Iteration[600/600],trainingloss :0.12038732320070267,trainingAccuracy:95%\n",
            "epoch[4/30],Iteration[100/600],trainingloss :0.03391503915190697,trainingAccuracy:95%\n",
            "epoch[4/30],Iteration[200/600],trainingloss :0.009640524163842201,trainingAccuracy:96%\n",
            "epoch[4/30],Iteration[300/600],trainingloss :0.12696786224842072,trainingAccuracy:96%\n",
            "epoch[4/30],Iteration[400/600],trainingloss :0.055641815066337585,trainingAccuracy:96%\n",
            "epoch[4/30],Iteration[500/600],trainingloss :0.030683813616633415,trainingAccuracy:96%\n",
            "epoch[4/30],Iteration[600/600],trainingloss :0.08887813240289688,trainingAccuracy:96%\n",
            "epoch[5/30],Iteration[100/600],trainingloss :0.0424443818628788,trainingAccuracy:96%\n",
            "epoch[5/30],Iteration[200/600],trainingloss :0.03976471722126007,trainingAccuracy:96%\n",
            "epoch[5/30],Iteration[300/600],trainingloss :0.09320716559886932,trainingAccuracy:96%\n",
            "epoch[5/30],Iteration[400/600],trainingloss :0.04120112583041191,trainingAccuracy:96%\n",
            "epoch[5/30],Iteration[500/600],trainingloss :0.03771394491195679,trainingAccuracy:96%\n",
            "epoch[5/30],Iteration[600/600],trainingloss :0.012911057099699974,trainingAccuracy:96%\n",
            "epoch[6/30],Iteration[100/600],trainingloss :0.01932554505765438,trainingAccuracy:97%\n",
            "epoch[6/30],Iteration[200/600],trainingloss :0.011133618652820587,trainingAccuracy:97%\n",
            "epoch[6/30],Iteration[300/600],trainingloss :0.07110244035720825,trainingAccuracy:97%\n",
            "epoch[6/30],Iteration[400/600],trainingloss :0.03388872742652893,trainingAccuracy:97%\n",
            "epoch[6/30],Iteration[500/600],trainingloss :0.0017255210550501943,trainingAccuracy:97%\n",
            "epoch[6/30],Iteration[600/600],trainingloss :0.016623539850115776,trainingAccuracy:97%\n",
            "epoch[7/30],Iteration[100/600],trainingloss :0.0033025264274328947,trainingAccuracy:97%\n",
            "epoch[7/30],Iteration[200/600],trainingloss :0.00566846365109086,trainingAccuracy:97%\n",
            "epoch[7/30],Iteration[300/600],trainingloss :0.007154922466725111,trainingAccuracy:97%\n",
            "epoch[7/30],Iteration[400/600],trainingloss :0.014878139831125736,trainingAccuracy:97%\n",
            "epoch[7/30],Iteration[500/600],trainingloss :0.0692591443657875,trainingAccuracy:97%\n",
            "epoch[7/30],Iteration[600/600],trainingloss :0.018808001652359962,trainingAccuracy:97%\n",
            "epoch[8/30],Iteration[100/600],trainingloss :0.019023478031158447,trainingAccuracy:97%\n",
            "epoch[8/30],Iteration[200/600],trainingloss :0.019060764461755753,trainingAccuracy:97%\n",
            "epoch[8/30],Iteration[300/600],trainingloss :0.006502652075141668,trainingAccuracy:97%\n",
            "epoch[8/30],Iteration[400/600],trainingloss :0.00218885182403028,trainingAccuracy:97%\n",
            "epoch[8/30],Iteration[500/600],trainingloss :0.0011867284774780273,trainingAccuracy:97%\n",
            "epoch[8/30],Iteration[600/600],trainingloss :0.010980596765875816,trainingAccuracy:97%\n",
            "epoch[9/30],Iteration[100/600],trainingloss :0.006200733128935099,trainingAccuracy:97%\n",
            "epoch[9/30],Iteration[200/600],trainingloss :0.08219122141599655,trainingAccuracy:97%\n",
            "epoch[9/30],Iteration[300/600],trainingloss :0.005662970710545778,trainingAccuracy:97%\n",
            "epoch[9/30],Iteration[400/600],trainingloss :0.002546548843383789,trainingAccuracy:97%\n",
            "epoch[9/30],Iteration[500/600],trainingloss :0.06224227324128151,trainingAccuracy:97%\n",
            "epoch[9/30],Iteration[600/600],trainingloss :0.013775362633168697,trainingAccuracy:98%\n",
            "epoch[10/30],Iteration[100/600],trainingloss :0.05361577868461609,trainingAccuracy:98%\n",
            "epoch[10/30],Iteration[200/600],trainingloss :0.004865770228207111,trainingAccuracy:98%\n",
            "epoch[10/30],Iteration[300/600],trainingloss :0.004814183805137873,trainingAccuracy:98%\n",
            "epoch[10/30],Iteration[400/600],trainingloss :0.014414234086871147,trainingAccuracy:98%\n",
            "epoch[10/30],Iteration[500/600],trainingloss :0.014468874782323837,trainingAccuracy:98%\n",
            "epoch[10/30],Iteration[600/600],trainingloss :0.0008065986912697554,trainingAccuracy:98%\n",
            "epoch[11/30],Iteration[100/600],trainingloss :0.0016289615305140615,trainingAccuracy:98%\n",
            "epoch[11/30],Iteration[200/600],trainingloss :0.004669256042689085,trainingAccuracy:98%\n",
            "epoch[11/30],Iteration[300/600],trainingloss :0.011251254007220268,trainingAccuracy:98%\n",
            "epoch[11/30],Iteration[400/600],trainingloss :0.004943618550896645,trainingAccuracy:98%\n",
            "epoch[11/30],Iteration[500/600],trainingloss :0.0005996370455250144,trainingAccuracy:98%\n",
            "epoch[11/30],Iteration[600/600],trainingloss :0.00046782969729974866,trainingAccuracy:98%\n",
            "epoch[12/30],Iteration[100/600],trainingloss :0.001154232071712613,trainingAccuracy:98%\n",
            "epoch[12/30],Iteration[200/600],trainingloss :0.010745329782366753,trainingAccuracy:98%\n",
            "epoch[12/30],Iteration[300/600],trainingloss :0.011402344331145287,trainingAccuracy:98%\n",
            "epoch[12/30],Iteration[400/600],trainingloss :0.0010020065819844604,trainingAccuracy:98%\n",
            "epoch[12/30],Iteration[500/600],trainingloss :0.011003876104950905,trainingAccuracy:98%\n",
            "epoch[12/30],Iteration[600/600],trainingloss :0.04975104331970215,trainingAccuracy:98%\n",
            "epoch[13/30],Iteration[100/600],trainingloss :0.0023238277062773705,trainingAccuracy:98%\n",
            "epoch[13/30],Iteration[200/600],trainingloss :0.0008083057473413646,trainingAccuracy:98%\n",
            "epoch[13/30],Iteration[300/600],trainingloss :0.0011066723382100463,trainingAccuracy:98%\n",
            "epoch[13/30],Iteration[400/600],trainingloss :0.010843639262020588,trainingAccuracy:98%\n",
            "epoch[13/30],Iteration[500/600],trainingloss :0.006430554203689098,trainingAccuracy:98%\n",
            "epoch[13/30],Iteration[600/600],trainingloss :0.009853338822722435,trainingAccuracy:98%\n",
            "epoch[14/30],Iteration[100/600],trainingloss :0.0006325053982436657,trainingAccuracy:98%\n",
            "epoch[14/30],Iteration[200/600],trainingloss :0.011242828331887722,trainingAccuracy:98%\n",
            "epoch[14/30],Iteration[300/600],trainingloss :0.027050668373703957,trainingAccuracy:98%\n",
            "epoch[14/30],Iteration[400/600],trainingloss :0.00029618263943120837,trainingAccuracy:98%\n",
            "epoch[14/30],Iteration[500/600],trainingloss :0.0003198480699211359,trainingAccuracy:98%\n",
            "epoch[14/30],Iteration[600/600],trainingloss :0.0008991241338662803,trainingAccuracy:98%\n",
            "epoch[15/30],Iteration[100/600],trainingloss :0.003340654307976365,trainingAccuracy:98%\n",
            "epoch[15/30],Iteration[200/600],trainingloss :0.0014920711982995272,trainingAccuracy:98%\n",
            "epoch[15/30],Iteration[300/600],trainingloss :2.6559830075711943e-05,trainingAccuracy:98%\n",
            "epoch[15/30],Iteration[400/600],trainingloss :0.0004844760987907648,trainingAccuracy:98%\n",
            "epoch[15/30],Iteration[500/600],trainingloss :0.008137250319123268,trainingAccuracy:98%\n",
            "epoch[15/30],Iteration[600/600],trainingloss :0.00974248442798853,trainingAccuracy:98%\n",
            "epoch[16/30],Iteration[100/600],trainingloss :0.00025535584427416325,trainingAccuracy:98%\n",
            "epoch[16/30],Iteration[200/600],trainingloss :0.003013820620253682,trainingAccuracy:98%\n",
            "epoch[16/30],Iteration[300/600],trainingloss :0.005142522044479847,trainingAccuracy:98%\n",
            "epoch[16/30],Iteration[400/600],trainingloss :0.0004834413412027061,trainingAccuracy:98%\n",
            "epoch[16/30],Iteration[500/600],trainingloss :0.0023911523167043924,trainingAccuracy:98%\n",
            "epoch[16/30],Iteration[600/600],trainingloss :0.04343916103243828,trainingAccuracy:98%\n",
            "epoch[17/30],Iteration[100/600],trainingloss :0.000737471564207226,trainingAccuracy:98%\n",
            "epoch[17/30],Iteration[200/600],trainingloss :0.001125974697060883,trainingAccuracy:98%\n",
            "epoch[17/30],Iteration[300/600],trainingloss :3.948688390664756e-05,trainingAccuracy:98%\n",
            "epoch[17/30],Iteration[400/600],trainingloss :0.0031614303588867188,trainingAccuracy:98%\n",
            "epoch[17/30],Iteration[500/600],trainingloss :0.0008532142383046448,trainingAccuracy:98%\n",
            "epoch[17/30],Iteration[600/600],trainingloss :0.0005249309469945729,trainingAccuracy:98%\n",
            "epoch[18/30],Iteration[100/600],trainingloss :0.0016476297751069069,trainingAccuracy:98%\n",
            "epoch[18/30],Iteration[200/600],trainingloss :0.00022353172244038433,trainingAccuracy:98%\n",
            "epoch[18/30],Iteration[300/600],trainingloss :0.0030669306870549917,trainingAccuracy:98%\n",
            "epoch[18/30],Iteration[400/600],trainingloss :0.014916462823748589,trainingAccuracy:98%\n",
            "epoch[18/30],Iteration[500/600],trainingloss :5.597114432021044e-05,trainingAccuracy:98%\n",
            "epoch[18/30],Iteration[600/600],trainingloss :0.0073967124335467815,trainingAccuracy:98%\n",
            "epoch[19/30],Iteration[100/600],trainingloss :0.032850638031959534,trainingAccuracy:98%\n",
            "epoch[19/30],Iteration[200/600],trainingloss :0.05672289803624153,trainingAccuracy:98%\n",
            "epoch[19/30],Iteration[300/600],trainingloss :0.00044038295163773,trainingAccuracy:98%\n",
            "epoch[19/30],Iteration[400/600],trainingloss :0.004758825525641441,trainingAccuracy:98%\n",
            "epoch[19/30],Iteration[500/600],trainingloss :0.0006977367447689176,trainingAccuracy:98%\n",
            "epoch[19/30],Iteration[600/600],trainingloss :0.0026747083757072687,trainingAccuracy:98%\n",
            "epoch[20/30],Iteration[100/600],trainingloss :0.0014867257559671998,trainingAccuracy:98%\n",
            "epoch[20/30],Iteration[200/600],trainingloss :0.0006903123576194048,trainingAccuracy:98%\n",
            "epoch[20/30],Iteration[300/600],trainingloss :0.0002470588660798967,trainingAccuracy:98%\n",
            "epoch[20/30],Iteration[400/600],trainingloss :0.008572567254304886,trainingAccuracy:98%\n",
            "epoch[20/30],Iteration[500/600],trainingloss :0.00042398928781040013,trainingAccuracy:98%\n",
            "epoch[20/30],Iteration[600/600],trainingloss :0.007883491925895214,trainingAccuracy:98%\n",
            "epoch[21/30],Iteration[100/600],trainingloss :5.8116911532124504e-05,trainingAccuracy:98%\n",
            "epoch[21/30],Iteration[200/600],trainingloss :2.2039414034225047e-05,trainingAccuracy:98%\n",
            "epoch[21/30],Iteration[300/600],trainingloss :0.0055946302600204945,trainingAccuracy:98%\n",
            "epoch[21/30],Iteration[400/600],trainingloss :0.015497351065278053,trainingAccuracy:98%\n",
            "epoch[21/30],Iteration[500/600],trainingloss :8.581161819165573e-05,trainingAccuracy:98%\n",
            "epoch[21/30],Iteration[600/600],trainingloss :0.0003402328584343195,trainingAccuracy:98%\n",
            "epoch[22/30],Iteration[100/600],trainingloss :0.0013148450525477529,trainingAccuracy:98%\n",
            "epoch[22/30],Iteration[200/600],trainingloss :0.01618485525250435,trainingAccuracy:98%\n",
            "epoch[22/30],Iteration[300/600],trainingloss :0.0022457600571215153,trainingAccuracy:98%\n",
            "epoch[22/30],Iteration[400/600],trainingloss :0.0046567535027861595,trainingAccuracy:98%\n",
            "epoch[22/30],Iteration[500/600],trainingloss :0.040452755987644196,trainingAccuracy:98%\n",
            "epoch[22/30],Iteration[600/600],trainingloss :0.004548158496618271,trainingAccuracy:98%\n",
            "epoch[23/30],Iteration[100/600],trainingloss :0.0015146684600040317,trainingAccuracy:99%\n",
            "epoch[23/30],Iteration[200/600],trainingloss :8.82434833329171e-05,trainingAccuracy:99%\n",
            "epoch[23/30],Iteration[300/600],trainingloss :3.668308272608556e-05,trainingAccuracy:99%\n",
            "epoch[23/30],Iteration[400/600],trainingloss :0.00014543533325195312,trainingAccuracy:99%\n",
            "epoch[23/30],Iteration[500/600],trainingloss :0.0009563780040480196,trainingAccuracy:99%\n",
            "epoch[23/30],Iteration[600/600],trainingloss :0.0002521514834370464,trainingAccuracy:99%\n",
            "epoch[24/30],Iteration[100/600],trainingloss :0.002382745733484626,trainingAccuracy:99%\n",
            "epoch[24/30],Iteration[200/600],trainingloss :9.250640869140625e-05,trainingAccuracy:99%\n",
            "epoch[24/30],Iteration[300/600],trainingloss :0.00292174331843853,trainingAccuracy:99%\n",
            "epoch[24/30],Iteration[400/600],trainingloss :0.09003607928752899,trainingAccuracy:99%\n",
            "epoch[24/30],Iteration[500/600],trainingloss :0.016206298023462296,trainingAccuracy:99%\n",
            "epoch[24/30],Iteration[600/600],trainingloss :0.00015933990653138608,trainingAccuracy:99%\n",
            "epoch[25/30],Iteration[100/600],trainingloss :0.004995973315089941,trainingAccuracy:99%\n",
            "epoch[25/30],Iteration[200/600],trainingloss :0.003920719493180513,trainingAccuracy:99%\n",
            "epoch[25/30],Iteration[300/600],trainingloss :4.7349931264761835e-05,trainingAccuracy:99%\n",
            "epoch[25/30],Iteration[400/600],trainingloss :0.00039378643850795925,trainingAccuracy:99%\n",
            "epoch[25/30],Iteration[500/600],trainingloss :0.0009912061505019665,trainingAccuracy:99%\n",
            "epoch[25/30],Iteration[600/600],trainingloss :0.0376555435359478,trainingAccuracy:99%\n",
            "epoch[26/30],Iteration[100/600],trainingloss :8.991241338662803e-05,trainingAccuracy:99%\n",
            "epoch[26/30],Iteration[200/600],trainingloss :5.786418842035346e-05,trainingAccuracy:99%\n",
            "epoch[26/30],Iteration[300/600],trainingloss :2.4652481442899443e-05,trainingAccuracy:99%\n",
            "epoch[26/30],Iteration[400/600],trainingloss :0.00013356209092307836,trainingAccuracy:99%\n",
            "epoch[26/30],Iteration[500/600],trainingloss :0.005033879075199366,trainingAccuracy:99%\n",
            "epoch[26/30],Iteration[600/600],trainingloss :0.0030100918374955654,trainingAccuracy:99%\n",
            "epoch[27/30],Iteration[100/600],trainingloss :0.0007101678638719022,trainingAccuracy:99%\n",
            "epoch[27/30],Iteration[200/600],trainingloss :0.0005575179820880294,trainingAccuracy:99%\n",
            "epoch[27/30],Iteration[300/600],trainingloss :0.0014458417426794767,trainingAccuracy:99%\n",
            "epoch[27/30],Iteration[400/600],trainingloss :0.00011541366257006302,trainingAccuracy:99%\n",
            "epoch[27/30],Iteration[500/600],trainingloss :3.398895205464214e-05,trainingAccuracy:99%\n",
            "epoch[27/30],Iteration[600/600],trainingloss :0.0005742406938225031,trainingAccuracy:99%\n",
            "epoch[28/30],Iteration[100/600],trainingloss :9.17625438887626e-05,trainingAccuracy:99%\n",
            "epoch[28/30],Iteration[200/600],trainingloss :0.006853940896689892,trainingAccuracy:99%\n",
            "epoch[28/30],Iteration[300/600],trainingloss :0.0001313972461502999,trainingAccuracy:99%\n",
            "epoch[28/30],Iteration[400/600],trainingloss :0.0013898611068725586,trainingAccuracy:99%\n",
            "epoch[28/30],Iteration[500/600],trainingloss :0.004845702555030584,trainingAccuracy:99%\n",
            "epoch[28/30],Iteration[600/600],trainingloss :0.004691319540143013,trainingAccuracy:99%\n",
            "epoch[29/30],Iteration[100/600],trainingloss :1.0995864613505546e-05,trainingAccuracy:99%\n",
            "epoch[29/30],Iteration[200/600],trainingloss :0.0066115763038396835,trainingAccuracy:99%\n",
            "epoch[29/30],Iteration[300/600],trainingloss :0.0005447435542009771,trainingAccuracy:99%\n",
            "epoch[29/30],Iteration[400/600],trainingloss :0.002408051397651434,trainingAccuracy:99%\n",
            "epoch[29/30],Iteration[500/600],trainingloss :0.004346809349954128,trainingAccuracy:99%\n",
            "epoch[29/30],Iteration[600/600],trainingloss :0.009427700191736221,trainingAccuracy:99%\n",
            "epoch[30/30],Iteration[100/600],trainingloss :3.937244400731288e-05,trainingAccuracy:99%\n",
            "epoch[30/30],Iteration[200/600],trainingloss :0.0003300905227661133,trainingAccuracy:99%\n",
            "epoch[30/30],Iteration[300/600],trainingloss :2.7761459932662547e-05,trainingAccuracy:99%\n",
            "epoch[30/30],Iteration[400/600],trainingloss :0.010178498923778534,trainingAccuracy:99%\n",
            "epoch[30/30],Iteration[500/600],trainingloss :0.00046490191016346216,trainingAccuracy:99%\n",
            "epoch[30/30],Iteration[600/600],trainingloss :4.259586421540007e-05,trainingAccuracy:99%\n"
          ],
          "name": "stdout"
        }
      ]
    },
    {
      "metadata": {
        "id": "9aAD3Mc4cmv6",
        "colab_type": "code",
        "colab": {
          "base_uri": "https://localhost:8080/",
          "height": 34
        },
        "outputId": "3c4178e0-e2ef-42a4-8435-1274ed9ef221"
      },
      "cell_type": "code",
      "source": [
        "# testing sets\n",
        "correct=0\n",
        "total=0\n",
        "for images,labels in test_loader:\n",
        "    images=Variable(images.view(-1,28*28))\n",
        "    \n",
        "    if CUDA:\n",
        "        images=images.cuda()\n",
        "    output=net(images)\n",
        "    _,predict=torch.max(output.data, 1)\n",
        "    total +=labels.size(0)\n",
        "    if CUDA:\n",
        "        correct +=(predict.cpu()==labels.cpu()).sum()\n",
        "    else:\n",
        "        correct +=(predict==labels).sum()\n",
        "print('final test accuracy: %d %%' %( 100 * correct/total ))"
      ],
      "execution_count": 14,
      "outputs": [
        {
          "output_type": "stream",
          "text": [
            "final test accuracy: 98 %\n"
          ],
          "name": "stdout"
        }
      ]
    }
  ]
}