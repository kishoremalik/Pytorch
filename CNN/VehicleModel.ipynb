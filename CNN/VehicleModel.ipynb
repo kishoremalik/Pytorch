{
 "cells": [
  {
   "cell_type": "code",
   "execution_count": 1,
   "metadata": {},
   "outputs": [],
   "source": [
    "import numpy as np\n",
    "import pandas as pd\n",
    "import torch\n",
    "import torch.nn as nn\n",
    "import torch.optim as optim\n",
    "from torch.autograd import Variable\n",
    "import torchvision \n",
    "from torchvision import datasets, models, transforms\n",
    "import matplotlib.pyplot as plt\n",
    "%matplotlib inline"
   ]
  },
  {
   "cell_type": "code",
   "execution_count": 2,
   "metadata": {},
   "outputs": [],
   "source": [
    "def imshow(inp, title=None):\n",
    "    \"\"\" IMshow for Tensor\"\"\"\n",
    "    inp=inp.numpy().transpose((1,2,0))\n",
    "    mean=np.array([0.485, 0.456, 0.406])\n",
    "    std=np.array([0.299,0.244,0.255])\n",
    "    inp= std * inp + mean\n",
    "    inp=np.clip(inp,0,1)\n",
    "    plt.imshow(inp)\n",
    "    if title is not None:\n",
    "        plt.title(title)\n",
    "    plt.pause(0.001)"
   ]
  },
  {
   "cell_type": "code",
   "execution_count": 3,
   "metadata": {},
   "outputs": [],
   "source": [
    "def data_load():\n",
    "    data_transform=transforms.Compose([transforms.Resize([512,512]), transforms.ToTensor(), transforms.Normalize([0.485,0.456,0.406],[0.229,0.224,0.225])])\n",
    "    data_dir='E:/image_model/vehicle'\n",
    "    image_datasets=datasets.ImageFolder(data_dir,transform=data_transform)\n",
    "    train_loader=torch.utils.data.DataLoader(dataset=image_datasets, batch_size=2, shuffle=True)\n",
    "    return train_loader,image_datasets\n",
    "    "
   ]
  },
  {
   "cell_type": "code",
   "execution_count": 4,
   "metadata": {},
   "outputs": [],
   "source": [
    "# model class\n",
    "class CNNModel(nn.Module):\n",
    "    def __init__(self):\n",
    "        super(CNNModel, self).__init__()\n",
    "        self.cnn1=nn.Conv2d(in_channels=3, out_channels=16,kernel_size=5,stride=1,padding=2)\n",
    "        self.relu=nn.ReLU()\n",
    "        self.maxpool1=nn.MaxPool2d(kernel_size=2)\n",
    "        self.cnn2=nn.Conv2d(in_channels=16, out_channels=32, kernel_size=5, stride=1, padding=2)\n",
    "        self.relu2=nn.ReLU()\n",
    "        self.maxpool2=nn.MaxPool2d(kernel_size=2)\n",
    "        self.fc1=nn.Linear(32*128*128,7)\n",
    "    \n",
    "    def forward(self,x):\n",
    "        out=self.cnn1(x)\n",
    "        out=self.relu(out)\n",
    "        out=self.maxpool1(out)\n",
    "        out=self.cnn2(out)\n",
    "        out=self.relu2(out)\n",
    "        out=self.maxpool2(out)\n",
    "        out=out.view(out.size(0),-1)\n",
    "        out=self.fc1(out)\n",
    "        return out"
   ]
  },
  {
   "cell_type": "code",
   "execution_count": 5,
   "metadata": {},
   "outputs": [],
   "source": [
    "train_loader,image_datasets=data_load()"
   ]
  },
  {
   "cell_type": "code",
   "execution_count": 6,
   "metadata": {},
   "outputs": [],
   "source": [
    "model=CNNModel()"
   ]
  },
  {
   "cell_type": "code",
   "execution_count": 7,
   "metadata": {},
   "outputs": [],
   "source": [
    "criterion=nn.CrossEntropyLoss()\n",
    "learning_rate=0.001\n",
    "optimizer=optim.SGD(model.parameters(),lr=learning_rate)\n"
   ]
  },
  {
   "cell_type": "code",
   "execution_count": 8,
   "metadata": {},
   "outputs": [
    {
     "name": "stderr",
     "output_type": "stream",
     "text": [
      "C:\\Users\\admin\\Anaconda3\\envs\\pyt\\lib\\site-packages\\ipykernel_launcher.py:16: UserWarning: invalid index of a 0-dim tensor. This will be an error in PyTorch 0.5. Use tensor.item() to convert a 0-dim tensor to a Python number\n",
      "  app.launch_new_instance()\n"
     ]
    },
    {
     "name": "stdout",
     "output_type": "stream",
     "text": [
      "Epoch [1/5],Iter [1/20] Loss : 2.0231\n",
      "Epoch [1/5],Iter [2/20] Loss : 8.3074\n",
      "Epoch [1/5],Iter [3/20] Loss : 1.7041\n",
      "Epoch [1/5],Iter [4/20] Loss : 0.5121\n",
      "Epoch [1/5],Iter [5/20] Loss : 0.0830\n",
      "Epoch [1/5],Iter [6/20] Loss : 0.4256\n",
      "Epoch [1/5],Iter [7/20] Loss : 0.6794\n",
      "Epoch [1/5],Iter [8/20] Loss : 15.4304\n",
      "Epoch [1/5],Iter [9/20] Loss : 5.1570\n",
      "Epoch [1/5],Iter [10/20] Loss : 1.9374\n",
      "Epoch [1/5],Iter [11/20] Loss : 1.8526\n",
      "Epoch [1/5],Iter [12/20] Loss : 1.5544\n",
      "Epoch [1/5],Iter [13/20] Loss : 2.2488\n",
      "Epoch [1/5],Iter [14/20] Loss : 1.5938\n",
      "Epoch [1/5],Iter [15/20] Loss : 1.7798\n"
     ]
    },
    {
     "name": "stderr",
     "output_type": "stream",
     "text": [
      "C:\\Users\\admin\\Anaconda3\\envs\\pyt\\lib\\site-packages\\PIL\\Image.py:952: UserWarning: Palette images with Transparency   expressed in bytes should be converted to RGBA images\n",
      "  ' expressed in bytes should be converted ' +\n"
     ]
    },
    {
     "name": "stdout",
     "output_type": "stream",
     "text": [
      "Epoch [1/5],Iter [16/20] Loss : 1.3760\n",
      "Epoch [1/5],Iter [17/20] Loss : 1.2653\n",
      "Epoch [1/5],Iter [18/20] Loss : 1.9910\n",
      "Epoch [1/5],Iter [19/20] Loss : 0.7026\n",
      "Epoch [1/5],Iter [20/20] Loss : 0.7192\n",
      "Epoch [2/5],Iter [1/20] Loss : 3.2769\n",
      "Epoch [2/5],Iter [2/20] Loss : 1.0586\n",
      "Epoch [2/5],Iter [3/20] Loss : 1.6973\n",
      "Epoch [2/5],Iter [4/20] Loss : 1.0649\n",
      "Epoch [2/5],Iter [5/20] Loss : 1.6599\n",
      "Epoch [2/5],Iter [6/20] Loss : 0.5344\n",
      "Epoch [2/5],Iter [7/20] Loss : 0.7225\n",
      "Epoch [2/5],Iter [8/20] Loss : 1.1926\n",
      "Epoch [2/5],Iter [9/20] Loss : 1.7464\n",
      "Epoch [2/5],Iter [10/20] Loss : 1.4272\n",
      "Epoch [2/5],Iter [11/20] Loss : 0.5538\n",
      "Epoch [2/5],Iter [12/20] Loss : 1.4001\n",
      "Epoch [2/5],Iter [13/20] Loss : 0.3641\n",
      "Epoch [2/5],Iter [14/20] Loss : 1.3932\n",
      "Epoch [2/5],Iter [15/20] Loss : 1.7646\n",
      "Epoch [2/5],Iter [16/20] Loss : 0.9176\n",
      "Epoch [2/5],Iter [17/20] Loss : 0.7094\n",
      "Epoch [2/5],Iter [18/20] Loss : 1.1012\n",
      "Epoch [2/5],Iter [19/20] Loss : 1.1644\n",
      "Epoch [2/5],Iter [20/20] Loss : 0.4914\n",
      "Epoch [3/5],Iter [1/20] Loss : 0.2652\n",
      "Epoch [3/5],Iter [2/20] Loss : 0.4354\n",
      "Epoch [3/5],Iter [3/20] Loss : 0.4857\n",
      "Epoch [3/5],Iter [4/20] Loss : 0.6234\n",
      "Epoch [3/5],Iter [5/20] Loss : 0.5801\n",
      "Epoch [3/5],Iter [6/20] Loss : 0.4159\n",
      "Epoch [3/5],Iter [7/20] Loss : 0.4955\n",
      "Epoch [3/5],Iter [8/20] Loss : 0.4270\n",
      "Epoch [3/5],Iter [9/20] Loss : 0.1828\n",
      "Epoch [3/5],Iter [10/20] Loss : 0.5826\n",
      "Epoch [3/5],Iter [11/20] Loss : 0.2082\n",
      "Epoch [3/5],Iter [12/20] Loss : 0.2555\n",
      "Epoch [3/5],Iter [13/20] Loss : 0.6916\n",
      "Epoch [3/5],Iter [14/20] Loss : 0.2623\n",
      "Epoch [3/5],Iter [15/20] Loss : 0.4647\n",
      "Epoch [3/5],Iter [16/20] Loss : 0.4292\n",
      "Epoch [3/5],Iter [17/20] Loss : 0.0558\n",
      "Epoch [3/5],Iter [18/20] Loss : 0.1648\n",
      "Epoch [3/5],Iter [19/20] Loss : 0.1101\n",
      "Epoch [3/5],Iter [20/20] Loss : 0.1995\n",
      "Epoch [4/5],Iter [1/20] Loss : 0.0554\n",
      "Epoch [4/5],Iter [2/20] Loss : 0.1593\n",
      "Epoch [4/5],Iter [3/20] Loss : 0.0369\n",
      "Epoch [4/5],Iter [4/20] Loss : 0.0811\n",
      "Epoch [4/5],Iter [5/20] Loss : 0.0150\n",
      "Epoch [4/5],Iter [6/20] Loss : 0.1409\n",
      "Epoch [4/5],Iter [7/20] Loss : 0.0254\n",
      "Epoch [4/5],Iter [8/20] Loss : 0.1332\n",
      "Epoch [4/5],Iter [9/20] Loss : 0.0815\n",
      "Epoch [4/5],Iter [10/20] Loss : 0.0194\n",
      "Epoch [4/5],Iter [11/20] Loss : 0.0853\n",
      "Epoch [4/5],Iter [12/20] Loss : 0.0491\n",
      "Epoch [4/5],Iter [13/20] Loss : 0.0042\n",
      "Epoch [4/5],Iter [14/20] Loss : 0.0972\n",
      "Epoch [4/5],Iter [15/20] Loss : 0.0614\n",
      "Epoch [4/5],Iter [16/20] Loss : 0.0502\n",
      "Epoch [4/5],Iter [17/20] Loss : 0.0568\n",
      "Epoch [4/5],Iter [18/20] Loss : 0.1823\n",
      "Epoch [4/5],Iter [19/20] Loss : 0.0263\n",
      "Epoch [4/5],Iter [20/20] Loss : 0.1221\n",
      "Epoch [5/5],Iter [1/20] Loss : 0.1485\n",
      "Epoch [5/5],Iter [2/20] Loss : 0.0322\n",
      "Epoch [5/5],Iter [3/20] Loss : 0.0647\n",
      "Epoch [5/5],Iter [4/20] Loss : 0.0247\n",
      "Epoch [5/5],Iter [5/20] Loss : 0.0412\n",
      "Epoch [5/5],Iter [6/20] Loss : 0.0424\n",
      "Epoch [5/5],Iter [7/20] Loss : 0.0116\n",
      "Epoch [5/5],Iter [8/20] Loss : 0.0047\n",
      "Epoch [5/5],Iter [9/20] Loss : 0.0255\n",
      "Epoch [5/5],Iter [10/20] Loss : 0.0464\n",
      "Epoch [5/5],Iter [11/20] Loss : 0.0110\n",
      "Epoch [5/5],Iter [12/20] Loss : 0.0182\n",
      "Epoch [5/5],Iter [13/20] Loss : 0.0205\n",
      "Epoch [5/5],Iter [14/20] Loss : 0.0213\n",
      "Epoch [5/5],Iter [15/20] Loss : 0.0725\n",
      "Epoch [5/5],Iter [16/20] Loss : 0.0268\n",
      "Epoch [5/5],Iter [17/20] Loss : 0.0166\n",
      "Epoch [5/5],Iter [18/20] Loss : 0.0327\n",
      "Epoch [5/5],Iter [19/20] Loss : 0.0107\n",
      "Epoch [5/5],Iter [20/20] Loss : 0.0165\n"
     ]
    }
   ],
   "source": [
    "# model training\n",
    "num_epochs=5\n",
    "iter=0\n",
    "batch_size=2\n",
    "\n",
    "for epoch in range(num_epochs):\n",
    "    for i, (images, labels)in enumerate(train_loader):\n",
    "        images=Variable(images)\n",
    "        labels=Variable(labels)\n",
    "        optimizer.zero_grad()\n",
    "        output=model(images)\n",
    "        loss=criterion(output, labels)\n",
    "        loss.backward()\n",
    "        optimizer.step()\n",
    "        iter =iter +1\n",
    "        print('Epoch [%d/%d],Iter [%d/%d] Loss : %.4f' %(epoch+1,num_epochs,i+1,len(image_datasets)//batch_size,loss[0]))\n",
    "        \n"
   ]
  },
  {
   "cell_type": "markdown",
   "metadata": {},
   "source": [
    "### testing"
   ]
  },
  {
   "cell_type": "code",
   "execution_count": 9,
   "metadata": {},
   "outputs": [],
   "source": [
    "def data_load1():\n",
    "    data_transform=transforms.Compose([transforms.Resize([512,512]), transforms.ToTensor(), transforms.Normalize([0.485,0.456,0.406],[0.229,0.224,0.225])])\n",
    "    data_dir='E:/testimg'\n",
    "    image_datasets=datasets.ImageFolder(data_dir,transform=data_transform)\n",
    "    train_loader=torch.utils.data.DataLoader(dataset=image_datasets, batch_size=2, shuffle=True)\n",
    "    return train_loader"
   ]
  },
  {
   "cell_type": "code",
   "execution_count": 10,
   "metadata": {},
   "outputs": [],
   "source": [
    "train_loader22=data_load1()"
   ]
  },
  {
   "cell_type": "code",
   "execution_count": 11,
   "metadata": {},
   "outputs": [
    {
     "name": "stdout",
     "output_type": "stream",
     "text": [
      "<torch.utils.data.dataloader.DataLoader object at 0x00000261BC00EC88>\n"
     ]
    }
   ],
   "source": [
    "imagex=train_loader22\n",
    "print(imagex)"
   ]
  },
  {
   "cell_type": "code",
   "execution_count": 12,
   "metadata": {},
   "outputs": [
    {
     "data": {
      "image/png": "[encoded data removed]",
      "text/plain": [
       "<Figure size 432x288 with 1 Axes>"
      ]
     },
     "metadata": {
      "needs_background": "light"
     },
     "output_type": "display_data"
    },
    {
     "name": "stdout",
     "output_type": "stream",
     "text": [
      "tensor([0])\n",
      "prediction-- aeroplane\n"
     ]
    }
   ],
   "source": [
    "labels_h=('aeroplane','bike','car','truck')\n",
    "for i , (a,b) in enumerate(train_loader22):\n",
    "    imshow(torchvision.utils.make_grid(a))\n",
    "    images1=Variable(a)\n",
    "    labels1=Variable(b)\n",
    "    outputs1=model(a)\n",
    "    _,predicted=torch.max(outputs1.data,1)\n",
    "    print(predicted)\n",
    "    print(\"prediction--\", labels_h[predicted[0]])"
   ]
  },
  {
   "cell_type": "code",
   "execution_count": null,
   "metadata": {},
   "outputs": [],
   "source": []
  }
 ],
 "metadata": {
  "kernelspec": {
   "display_name": "Python 3",
   "language": "python",
   "name": "python3"
  },
  "language_info": {
   "codemirror_mode": {
    "name": "ipython",
    "version": 3
   },
   "file_extension": ".py",
   "mimetype": "text/x-python",
   "name": "python",
   "nbconvert_exporter": "python",
   "pygments_lexer": "ipython3",
   "version": "3.7.1"
  }
 },
 "nbformat": 4,
 "nbformat_minor": 2
}
