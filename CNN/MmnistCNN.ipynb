{
 "cells": [
  {
   "cell_type": "code",
   "execution_count": 4,
   "metadata": {},
   "outputs": [],
   "source": [
    "import torch \n",
    "import torch.nn as nn\n",
    "import torchvision\n",
    "import torchvision.transforms as transforms\n"
   ]
  },
  {
   "cell_type": "code",
   "execution_count": 5,
   "metadata": {},
   "outputs": [],
   "source": [
    "class MNISTData(object):\n",
    "    def __init__(self):\n",
    "        pass\n",
    "    def load_data(self):\n",
    "        batch_size = 100\n",
    "        train_dataset = torchvision.datasets.MNIST(root='E:/DataSet/MNIST/', \n",
    "                                           train=True, \n",
    "                                           transform=transforms.ToTensor(),  \n",
    "                                           download=True)\n",
    "\n",
    "        test_dataset = torchvision.datasets.MNIST(root='E:/DataSet/MNIST/', \n",
    "                                          train=False, \n",
    "                                          transform=transforms.ToTensor())\n",
    "\n",
    "        # Data loader\n",
    "        train_loader = torch.utils.data.DataLoader(dataset=train_dataset, \n",
    "                                           batch_size=batch_size, \n",
    "                                           shuffle=True)\n",
    "\n",
    "        test_loader = torch.utils.data.DataLoader(dataset=test_dataset, \n",
    "                                          batch_size=batch_size, \n",
    "                                          shuffle=False)\n",
    "        return train_loader,test_loader"
   ]
  },
  {
   "cell_type": "code",
   "execution_count": 12,
   "metadata": {},
   "outputs": [],
   "source": [
    "class ConvNet(nn.Module):\n",
    "    def __init__(self, num_classes=10):\n",
    "        super(ConvNet, self).__init__()\n",
    "        self.layer1 = nn.Sequential(\n",
    "            nn.Conv2d(1, 16, kernel_size=5, stride=1, padding=2),\n",
    "            nn.BatchNorm2d(16),\n",
    "            nn.ReLU(),\n",
    "            nn.MaxPool2d(kernel_size=2, stride=2))\n",
    "        self.layer2 = nn.Sequential(\n",
    "            nn.Conv2d(16, 32, kernel_size=5, stride=1, padding=2),\n",
    "            nn.BatchNorm2d(32),\n",
    "            nn.ReLU(),\n",
    "            nn.MaxPool2d(kernel_size=2, stride=2))\n",
    "        self.fc = nn.Linear(7*7*32, num_classes)\n",
    "        \n",
    "    def forward(self, x):\n",
    "        out = self.layer1(x)\n",
    "        out = self.layer2(out)\n",
    "        out = out.reshape(out.size(0), -1)\n",
    "        out = self.fc(out)\n",
    "        return out"
   ]
  },
  {
   "cell_type": "code",
   "execution_count": 14,
   "metadata": {},
   "outputs": [],
   "source": [
    "def trainModel(train_loader):\n",
    "    \n",
    "    num_epochs = 5\n",
    "    num_classes = 10\n",
    "    batch_size = 100\n",
    "    learning_rate = 0.001\n",
    "    device = torch.device('cuda:0' if torch.cuda.is_available() else 'cpu')\n",
    "    model = ConvNet(num_classes).to(device)\n",
    "\n",
    "    # Loss and optimizer\n",
    "    criterion = nn.CrossEntropyLoss()\n",
    "    optimizer = torch.optim.Adam(model.parameters(), lr=learning_rate)\n",
    "\n",
    "    # Train the model\n",
    "    total_step = len(train_loader)\n",
    "    for epoch in range(num_epochs):\n",
    "        for i, (images, labels) in enumerate(train_loader):\n",
    "            images = images.to(device)\n",
    "            labels = labels.to(device)\n",
    "        \n",
    "            # Forward pass\n",
    "            outputs = model(images)\n",
    "            loss = criterion(outputs, labels)\n",
    "        \n",
    "            # Backward and optimize\n",
    "            optimizer.zero_grad()\n",
    "            loss.backward()\n",
    "            optimizer.step()\n",
    "        \n",
    "            if (i+1) % 100 == 0:\n",
    "                print ('Epoch [{}/{}], Step [{}/{}], Loss: {:.4f}' .format(epoch+1, num_epochs, i+1, total_step, loss.item()))\n",
    "    return model\n",
    "                \n",
    "def accuracy(test_loader,model):\n",
    "    device = torch.device('cuda:0' if torch.cuda.is_available() else 'cpu')\n",
    "    # Test the model\n",
    "    model.eval()  # eval mode (batchnorm uses moving mean/variance instead of mini-batch mean/variance)\n",
    "    with torch.no_grad():\n",
    "        correct = 0\n",
    "        total = 0\n",
    "    for images, labels in test_loader:\n",
    "        images = images.to(device)\n",
    "        labels = labels.to(device)\n",
    "        outputs = model(images)\n",
    "        _, predicted = torch.max(outputs.data, 1)\n",
    "        total += labels.size(0)\n",
    "        correct += (predicted == labels).sum().item()\n",
    "\n",
    "    print('Test Accuracy of the model on the 10000 test images: {} %'.format(100 * correct / total))\n"
   ]
  },
  {
   "cell_type": "code",
   "execution_count": 15,
   "metadata": {},
   "outputs": [
    {
     "name": "stdout",
     "output_type": "stream",
     "text": [
      "Epoch [1/5], Step [100/600], Loss: 0.4372\n",
      "Epoch [1/5], Step [200/600], Loss: 0.4593\n",
      "Epoch [1/5], Step [300/600], Loss: 0.3717\n",
      "Epoch [1/5], Step [400/600], Loss: 0.3172\n",
      "Epoch [1/5], Step [500/600], Loss: 0.2655\n",
      "Epoch [1/5], Step [600/600], Loss: 0.2615\n",
      "Epoch [2/5], Step [100/600], Loss: 0.3098\n",
      "Epoch [2/5], Step [200/600], Loss: 0.3703\n",
      "Epoch [2/5], Step [300/600], Loss: 0.4953\n",
      "Epoch [2/5], Step [400/600], Loss: 0.3305\n",
      "Epoch [2/5], Step [500/600], Loss: 0.3240\n",
      "Epoch [2/5], Step [600/600], Loss: 0.1886\n",
      "Epoch [3/5], Step [100/600], Loss: 0.2489\n",
      "Epoch [3/5], Step [200/600], Loss: 0.2624\n",
      "Epoch [3/5], Step [300/600], Loss: 0.2790\n",
      "Epoch [3/5], Step [400/600], Loss: 0.2394\n",
      "Epoch [3/5], Step [500/600], Loss: 0.4251\n",
      "Epoch [3/5], Step [600/600], Loss: 0.2540\n",
      "Epoch [4/5], Step [100/600], Loss: 0.3235\n",
      "Epoch [4/5], Step [200/600], Loss: 0.1963\n",
      "Epoch [4/5], Step [300/600], Loss: 0.1725\n",
      "Epoch [4/5], Step [400/600], Loss: 0.1737\n",
      "Epoch [4/5], Step [500/600], Loss: 0.1768\n",
      "Epoch [4/5], Step [600/600], Loss: 0.1069\n",
      "Epoch [5/5], Step [100/600], Loss: 0.1886\n",
      "Epoch [5/5], Step [200/600], Loss: 0.2431\n",
      "Epoch [5/5], Step [300/600], Loss: 0.2374\n",
      "Epoch [5/5], Step [400/600], Loss: 0.2587\n",
      "Epoch [5/5], Step [500/600], Loss: 0.1516\n",
      "Epoch [5/5], Step [600/600], Loss: 0.1670\n"
     ]
    }
   ],
   "source": [
    "obj=MNISTData()\n",
    "train_loader,test_loader=obj.load_data()\n",
    "model=trainModel(train_loader)"
   ]
  },
  {
   "cell_type": "code",
   "execution_count": 16,
   "metadata": {},
   "outputs": [
    {
     "name": "stdout",
     "output_type": "stream",
     "text": [
      "Test Accuracy of the model on the 10000 test images: 90.28 %\n"
     ]
    }
   ],
   "source": [
    "accuracy(test_loader,model)"
   ]
  },
  {
   "cell_type": "code",
   "execution_count": null,
   "metadata": {},
   "outputs": [],
   "source": []
  }
 ],
 "metadata": {
  "kernelspec": {
   "display_name": "Python 3",
   "language": "python",
   "name": "python3"
  },
  "language_info": {
   "codemirror_mode": {
    "name": "ipython",
    "version": 3
   },
   "file_extension": ".py",
   "mimetype": "text/x-python",
   "name": "python",
   "nbconvert_exporter": "python",
   "pygments_lexer": "ipython3",
   "version": "3.7.1"
  }
 },
 "nbformat": 4,
 "nbformat_minor": 2
}
