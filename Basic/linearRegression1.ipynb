{
  "nbformat": 4,
  "nbformat_minor": 0,
  "metadata": {
    "colab": {
      "name": "linearRegression1.ipynb",
      "version": "0.3.2",
      "provenance": []
    },
    "kernelspec": {
      "name": "python3",
      "display_name": "Python 3"
    }
  },
  "cells": [
    {
      "metadata": {
        "id": "ODsJIDgP3B3J",
        "colab_type": "code",
        "colab": {}
      },
      "cell_type": "code",
      "source": [
        "# http://pytorch.org/\n",
        "from os.path import exists\n",
        "from wheel.pep425tags import get_abbr_impl, get_impl_ver, get_abi_tag\n",
        "platform = '{}{}-{}'.format(get_abbr_impl(), get_impl_ver(), get_abi_tag())\n",
        "cuda_output = !ldconfig -p|grep cudart.so|sed -e 's/.*\\.\\([0-9]*\\)\\.\\([0-9]*\\)$/cu\\1\\2/'\n",
        "accelerator = cuda_output[0] if exists('/dev/nvidia0') else 'cpu'\n",
        "\n",
        "!pip install -q http://download.pytorch.org/whl/{accelerator}/torch-0.4.1-{platform}-linux_x86_64.whl torchvision\n",
        "import torch"
      ],
      "execution_count": 0,
      "outputs": []
    },
    {
      "metadata": {
        "id": "e6ngNgFd3vSR",
        "colab_type": "code",
        "outputId": "dace872d-51e2-41a3-b210-05607f6d088a",
        "colab": {
          "base_uri": "https://localhost:8080/",
          "height": 51
        }
      },
      "cell_type": "code",
      "source": [
        "a= torch.tensor([[1,2,3],[4,5,6]], requires_grad=True, dtype=torch.float)\n",
        "b=a+2\n",
        "c=2*b*b\n",
        "out=c.mean()\n",
        "out.backward()\n",
        "print(a.grad)"
      ],
      "execution_count": 0,
      "outputs": [
        {
          "output_type": "stream",
          "text": [
            "tensor([[2.0000, 2.6667, 3.3333],\n",
            "        [4.0000, 4.6667, 5.3333]])\n"
          ],
          "name": "stdout"
        }
      ]
    },
    {
      "metadata": {
        "id": "r9UI61TLI2wH",
        "colab_type": "text"
      },
      "cell_type": "markdown",
      "source": [
        "## Linear Regression"
      ]
    },
    {
      "metadata": {
        "id": "KxMcZYl8Bpbg",
        "colab_type": "code",
        "colab": {}
      },
      "cell_type": "code",
      "source": [
        "import torch.nn as nn"
      ],
      "execution_count": 0,
      "outputs": []
    },
    {
      "metadata": {
        "id": "G5ki2jZ9GCVG",
        "colab_type": "code",
        "colab": {}
      },
      "cell_type": "code",
      "source": [
        "class Network(nn.Module):\n",
        "  def __init__(self, in_dim,out_dim):\n",
        "    super(Network,self).__init__()\n",
        "    self.linear=nn.Linear(in_dim,out_dim)\n",
        "    \n",
        "  def forward(self,x):\n",
        "    out=self.linear(x)\n",
        "    return out\n",
        "  \n",
        "    "
      ],
      "execution_count": 0,
      "outputs": []
    },
    {
      "metadata": {
        "id": "Khvmp64OHVom",
        "colab_type": "code",
        "colab": {}
      },
      "cell_type": "code",
      "source": [
        ""
      ],
      "execution_count": 0,
      "outputs": []
    },
    {
      "metadata": {
        "id": "W2h5XBx5JkrI",
        "colab_type": "text"
      },
      "cell_type": "markdown",
      "source": [
        "$y =$ w0 + w1 * x\n",
        "\n",
        "- The nn.linear class contains two learnable variables: bias and weight. In our single feature model, these are the two parameters, w0 and w1, respectively. When we train a model, these variables are updated, ideally to values that approach the line of best fit to the data. Finally, in the preceding code, we instantiate the model by creating the variable, model, and setting it to our LinearModel class."
      ]
    },
    {
      "metadata": {
        "id": "LJ5zi-25L3tQ",
        "colab_type": "code",
        "colab": {}
      },
      "cell_type": "code",
      "source": [
        "model=Network(1,1)"
      ],
      "execution_count": 0,
      "outputs": []
    },
    {
      "metadata": {
        "id": "TG5BH7RtNlYF",
        "colab_type": "code",
        "colab": {}
      },
      "cell_type": "code",
      "source": [
        "learningrate=0.01\n",
        "optimizer=torch.optim.SGD(model.parameters(), lr=learningrate)"
      ],
      "execution_count": 0,
      "outputs": []
    },
    {
      "metadata": {
        "id": "nS0OEm1IOQUo",
        "colab_type": "code",
        "colab": {}
      },
      "cell_type": "code",
      "source": [
        "criterian=nn.MSELoss()"
      ],
      "execution_count": 0,
      "outputs": []
    },
    {
      "metadata": {
        "id": "-sVvUy8QOX_w",
        "colab_type": "code",
        "colab": {}
      },
      "cell_type": "code",
      "source": [
        "x_train=torch.tensor([1,2,3,4,5,6,7,8,9,10], dtype=torch.float).reshape(-1,1)\n",
        "y_train=torch.tensor([3*x+5 for x in x_train]).reshape(-1,1)\n"
      ],
      "execution_count": 0,
      "outputs": []
    },
    {
      "metadata": {
        "id": "CIlTyCqtPnhf",
        "colab_type": "text"
      },
      "cell_type": "markdown",
      "source": [
        "-  Values are reshape in [-1,1]"
      ]
    },
    {
      "metadata": {
        "id": "qHCqfWHTP1lO",
        "colab_type": "code",
        "colab": {}
      },
      "cell_type": "code",
      "source": [
        ""
      ],
      "execution_count": 0,
      "outputs": []
    },
    {
      "metadata": {
        "id": "HLoZYAh1QFWZ",
        "colab_type": "text"
      },
      "cell_type": "markdown",
      "source": [
        "-  Now we are ready to run the linear model and to do this we run it in a loop for each epoch. This training cycle consists of the following three steps:\n",
        "\n",
        "    1.  A forward pass over the training set\n",
        "    2. A backward pass to compute the loss\n",
        "    3. Updating the parameters according to the gradient of the loss function\n"
      ]
    },
    {
      "metadata": {
        "id": "h8-G3X8FQRv8",
        "colab_type": "code",
        "outputId": "d30ff94e-33e2-431d-8b00-1b54167df4b8",
        "colab": {
          "base_uri": "https://localhost:8080/",
          "height": 1717
        }
      },
      "cell_type": "code",
      "source": [
        "epochs=100\n",
        "for epoch in range(epochs):\n",
        "  epoch +=1\n",
        "  input1=x_train\n",
        "  labels= y_train\n",
        "  out=model(input1)\n",
        "  optimizer.zero_grad()\n",
        "  loss= criterian(out, labels)\n",
        "  loss.backward()\n",
        "  optimizer.step()\n",
        "  predicted=model.forward(x_train)\n",
        "  print('epoch{}, loss {}'.format(epoch,loss.item()))\n",
        "  "
      ],
      "execution_count": 0,
      "outputs": [
        {
          "output_type": "stream",
          "text": [
            "epoch1, loss 332.1545104980469\n",
            "epoch2, loss 20.776260375976562\n",
            "epoch3, loss 6.4433770179748535\n",
            "epoch4, loss 5.73974609375\n",
            "epoch5, loss 5.661837100982666\n",
            "epoch6, loss 5.613012790679932\n",
            "epoch7, loss 5.5659050941467285\n",
            "epoch8, loss 5.519254207611084\n",
            "epoch9, loss 5.472992897033691\n",
            "epoch10, loss 5.427122592926025\n",
            "epoch11, loss 5.38163423538208\n",
            "epoch12, loss 5.336526393890381\n",
            "epoch13, loss 5.291799545288086\n",
            "epoch14, loss 5.247446537017822\n",
            "epoch15, loss 5.203464984893799\n",
            "epoch16, loss 5.159852981567383\n",
            "epoch17, loss 5.116604804992676\n",
            "epoch18, loss 5.0737199783325195\n",
            "epoch19, loss 5.031197547912598\n",
            "epoch20, loss 4.9890289306640625\n",
            "epoch21, loss 4.947214603424072\n",
            "epoch22, loss 4.905747413635254\n",
            "epoch23, loss 4.864631175994873\n",
            "epoch24, loss 4.823859214782715\n",
            "epoch25, loss 4.783426761627197\n",
            "epoch26, loss 4.743335723876953\n",
            "epoch27, loss 4.703577995300293\n",
            "epoch28, loss 4.664156436920166\n",
            "epoch29, loss 4.625065803527832\n",
            "epoch30, loss 4.586301326751709\n",
            "epoch31, loss 4.5478620529174805\n",
            "epoch32, loss 4.5097432136535645\n",
            "epoch33, loss 4.471944332122803\n",
            "epoch34, loss 4.434463977813721\n",
            "epoch35, loss 4.397296905517578\n",
            "epoch36, loss 4.360438823699951\n",
            "epoch37, loss 4.3238935470581055\n",
            "epoch38, loss 4.287652969360352\n",
            "epoch39, loss 4.251716136932373\n",
            "epoch40, loss 4.216080665588379\n",
            "epoch41, loss 4.1807427406311035\n",
            "epoch42, loss 4.145703315734863\n",
            "epoch43, loss 4.110956192016602\n",
            "epoch44, loss 4.076499938964844\n",
            "epoch45, loss 4.042334079742432\n",
            "epoch46, loss 4.008453369140625\n",
            "epoch47, loss 3.974856376647949\n",
            "epoch48, loss 3.9415409564971924\n",
            "epoch49, loss 3.9085047245025635\n",
            "epoch50, loss 3.875746965408325\n",
            "epoch51, loss 3.8432610034942627\n",
            "epoch52, loss 3.811048984527588\n",
            "epoch53, loss 3.7791085243225098\n",
            "epoch54, loss 3.747434616088867\n",
            "epoch55, loss 3.7160234451293945\n",
            "epoch56, loss 3.6848769187927246\n",
            "epoch57, loss 3.6539928913116455\n",
            "epoch58, loss 3.623368263244629\n",
            "epoch59, loss 3.5929999351501465\n",
            "epoch60, loss 3.5628843307495117\n",
            "epoch61, loss 3.5330231189727783\n",
            "epoch62, loss 3.503410816192627\n",
            "epoch63, loss 3.4740469455718994\n",
            "epoch64, loss 3.4449284076690674\n",
            "epoch65, loss 3.416055679321289\n",
            "epoch66, loss 3.3874239921569824\n",
            "epoch67, loss 3.3590328693389893\n",
            "epoch68, loss 3.330880641937256\n",
            "epoch69, loss 3.3029625415802\n",
            "epoch70, loss 3.2752795219421387\n",
            "epoch71, loss 3.247826337814331\n",
            "epoch72, loss 3.220606565475464\n",
            "epoch73, loss 3.193612575531006\n",
            "epoch74, loss 3.1668436527252197\n",
            "epoch75, loss 3.1403017044067383\n",
            "epoch76, loss 3.1139817237854004\n",
            "epoch77, loss 3.0878827571868896\n",
            "epoch78, loss 3.0620036125183105\n",
            "epoch79, loss 3.036337375640869\n",
            "epoch80, loss 3.0108890533447266\n",
            "epoch81, loss 2.9856529235839844\n",
            "epoch82, loss 2.96062970161438\n",
            "epoch83, loss 2.9358150959014893\n",
            "epoch84, loss 2.911207437515259\n",
            "epoch85, loss 2.886808395385742\n",
            "epoch86, loss 2.86261248588562\n",
            "epoch87, loss 2.8386216163635254\n",
            "epoch88, loss 2.8148274421691895\n",
            "epoch89, loss 2.7912349700927734\n",
            "epoch90, loss 2.76784086227417\n",
            "epoch91, loss 2.7446439266204834\n",
            "epoch92, loss 2.721639633178711\n",
            "epoch93, loss 2.6988277435302734\n",
            "epoch94, loss 2.676208019256592\n",
            "epoch95, loss 2.6537771224975586\n",
            "epoch96, loss 2.6315340995788574\n",
            "epoch97, loss 2.6094789505004883\n",
            "epoch98, loss 2.587606906890869\n",
            "epoch99, loss 2.5659196376800537\n",
            "epoch100, loss 2.5444142818450928\n"
          ],
          "name": "stdout"
        }
      ]
    },
    {
      "metadata": {
        "id": "s1DiJE-rS4mj",
        "colab_type": "code",
        "outputId": "02878c03-d3bb-4483-a82d-0a4b669f2b17",
        "colab": {
          "base_uri": "https://localhost:8080/",
          "height": 34
        }
      },
      "cell_type": "code",
      "source": [
        "print(model.state_dict())"
      ],
      "execution_count": 0,
      "outputs": [
        {
          "output_type": "stream",
          "text": [
            "OrderedDict([('linear.weight', tensor([[3.4929]])), ('linear.bias', tensor([1.5688]))])\n"
          ],
          "name": "stdout"
        }
      ]
    },
    {
      "metadata": {
        "id": "iSOl8jk0TG-5",
        "colab_type": "code",
        "outputId": "e5b5c356-1365-4b79-838e-15432df67be5",
        "colab": {
          "base_uri": "https://localhost:8080/",
          "height": 347
        }
      },
      "cell_type": "code",
      "source": [
        "import matplotlib.pyplot as plt\n",
        "x=x_train.detach().numpy()\n",
        "plt.plot(x,predicted.detach().numpy(),label='predicted')\n",
        "plt.plot(x, y_train.detach().numpy(),'go',label='form data')\n",
        "plt.legend()\n",
        "plt.show()"
      ],
      "execution_count": 0,
      "outputs": [
        {
          "output_type": "display_data",
          "data": {
            "image/png": "[encoded data removed]",
            "text/plain": [
              "<Figure size 576x396 with 1 Axes>"
            ]
          },
          "metadata": {
            "tags": []
          }
        }
      ]
    }
  ]
}