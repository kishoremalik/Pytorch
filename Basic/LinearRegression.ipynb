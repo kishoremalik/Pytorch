{
  "nbformat": 4,
  "nbformat_minor": 0,
  "metadata": {
    "colab": {
      "name": "LinearRegression.ipynb",
      "version": "0.3.2",
      "provenance": [],
      "collapsed_sections": []
    },
    "kernelspec": {
      "name": "python3",
      "display_name": "Python 3"
    }
  },
  "cells": [
    {
      "metadata": {
        "id": "mjY23nb1W_GM",
        "colab_type": "code",
        "colab": {}
      },
      "cell_type": "code",
      "source": [
        "# http://pytorch.org/\n",
        "from os.path import exists\n",
        "from wheel.pep425tags import get_abbr_impl, get_impl_ver, get_abi_tag\n",
        "platform = '{}{}-{}'.format(get_abbr_impl(), get_impl_ver(), get_abi_tag())\n",
        "cuda_output = !ldconfig -p|grep cudart.so|sed -e 's/.*\\.\\([0-9]*\\)\\.\\([0-9]*\\)$/cu\\1\\2/'\n",
        "accelerator = cuda_output[0] if exists('/dev/nvidia0') else 'cpu'\n",
        "\n",
        "!pip install -q http://download.pytorch.org/whl/{accelerator}/torch-0.4.1-{platform}-linux_x86_64.whl torchvision\n",
        "import torch"
      ],
      "execution_count": 0,
      "outputs": []
    },
    {
      "metadata": {
        "id": "FwoSAUUzVB2q",
        "colab_type": "code",
        "colab": {}
      },
      "cell_type": "code",
      "source": [
        "import pandas as pd\n",
        "import numpy as np\n",
        "import sklearn as sk\n",
        "import torch\n",
        "import matplotlib.pyplot as plt"
      ],
      "execution_count": 0,
      "outputs": []
    },
    {
      "metadata": {
        "id": "lFGvYQ2VXTTk",
        "colab_type": "code",
        "colab": {}
      },
      "cell_type": "code",
      "source": [
        "class LinearRegressionData(object):\n",
        "  def __init__(self):\n",
        "    pass\n",
        "  def load_data(self):\n",
        "    x_train = np.array([[3.3], [4.4], [5.5], [6.71], [6.93], [4.168], \n",
        "                    [9.779], [6.182], [7.59], [2.167], [7.042], \n",
        "                    [10.791], [5.313], [7.997], [3.1]], dtype=np.float32)\n",
        "\n",
        "    y_train = np.array([[1.7], [2.76], [2.09], [3.19], [1.694], [1.573], \n",
        "                    [3.366], [2.596], [2.53], [1.221], [2.827], \n",
        "                    [3.465], [1.65], [2.904], [1.3]], dtype=np.float32)\n",
        "    \n",
        "    return x_train, y_train\n",
        "  "
      ],
      "execution_count": 0,
      "outputs": []
    },
    {
      "metadata": {
        "id": "7MSCg8ryZLcr",
        "colab_type": "code",
        "colab": {}
      },
      "cell_type": "code",
      "source": [
        "class TorchModel:\n",
        "  def __init__(self):\n",
        "    pass\n",
        "  def modelBuild(self):\n",
        "    # Hyper-parameters\n",
        "    input_size = 1\n",
        "    output_size = 1\n",
        "    \n",
        "    learning_rate = 0.001\n",
        "\n",
        "    # Linear regression model\n",
        "    model = torch.nn.Linear(input_size, output_size)\n",
        "\n",
        "    # Loss and optimizer\n",
        "    criterion = torch.nn.MSELoss()\n",
        "    optimizer = torch.optim.SGD(model.parameters(), lr=learning_rate) \n",
        "    return model,criterion, optimizer\n",
        "  \n",
        "  def Train_model(self,x_train,y_train,model,criterion,optimizer):\n",
        "    num_epochs = 60\n",
        "    # Train the model\n",
        "    for epoch in range(num_epochs):\n",
        "      # Convert numpy arrays to torch tensors\n",
        "      inputs = torch.from_numpy(x_train)\n",
        "      targets = torch.from_numpy(y_train)\n",
        "\n",
        "      # Forward pass\n",
        "      outputs = model(inputs)\n",
        "      loss = criterion(outputs, targets)\n",
        "    \n",
        "      # Backward and optimize\n",
        "      optimizer.zero_grad()\n",
        "      loss.backward()\n",
        "      optimizer.step()\n",
        "      if((epoch+1) % 5 == 0):\n",
        "         print('Epoch [{}/{}], Loss: {:.4f}'.format(epoch+1, num_epochs, loss.item()))\n",
        "          \n",
        "          \n",
        " \n",
        "    # Plot the graph\n",
        "    predicted = model(torch.from_numpy(x_train)).detach().numpy()\n",
        "    plt.plot(x_train, y_train, 'ro', label='Original data')\n",
        "    plt.plot(x_train, predicted, label='Fitted line')\n",
        "    plt.legend()\n",
        "    plt.show()\n",
        "    \n",
        "    \n",
        "    \n",
        "    \n",
        "       \n",
        "          \n",
        "      "
      ],
      "execution_count": 0,
      "outputs": []
    },
    {
      "metadata": {
        "id": "sHL0oS6heXk6",
        "colab_type": "code",
        "colab": {}
      },
      "cell_type": "code",
      "source": [
        "def main():\n",
        "  lobj=LinearRegressionData()\n",
        "  x_train, y_train=lobj.load_data()\n",
        "  #print(x_train)\n",
        "  tobj=TorchModel()\n",
        "  model,criterion, optimizer=tobj.modelBuild()\n",
        "  tobj.Train_model(x_train,y_train,model,criterion,optimizer)\n",
        "  \n",
        "  \n",
        "  \n",
        "  \n",
        "  "
      ],
      "execution_count": 0,
      "outputs": []
    },
    {
      "metadata": {
        "id": "cxArS13Ke2yi",
        "colab_type": "code",
        "outputId": "98c99092-4dcb-4f4d-ce9c-d74f1d8a3b92",
        "colab": {
          "base_uri": "https://localhost:8080/",
          "height": 551
        }
      },
      "cell_type": "code",
      "source": [
        "main()"
      ],
      "execution_count": 0,
      "outputs": [
        {
          "output_type": "stream",
          "text": [
            "Epoch [5/60], Loss: 3.0305\n",
            "Epoch [10/60], Loss: 1.3908\n",
            "Epoch [15/60], Loss: 0.7263\n",
            "Epoch [20/60], Loss: 0.4570\n",
            "Epoch [25/60], Loss: 0.3477\n",
            "Epoch [30/60], Loss: 0.3033\n",
            "Epoch [35/60], Loss: 0.2852\n",
            "Epoch [40/60], Loss: 0.2776\n",
            "Epoch [45/60], Loss: 0.2744\n",
            "Epoch [50/60], Loss: 0.2730\n",
            "Epoch [55/60], Loss: 0.2722\n",
            "Epoch [60/60], Loss: 0.2718\n"
          ],
          "name": "stdout"
        },
        {
          "output_type": "display_data",
          "data": {
            "image/png": "[encoded data removed]",
            "text/plain": [
              "<matplotlib.figure.Figure at 0x7fd51f359ac8>"
            ]
          },
          "metadata": {
            "tags": []
          }
        }
      ]
    }
  ]
}