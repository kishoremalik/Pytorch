{
  "nbformat": 4,
  "nbformat_minor": 0,
  "metadata": {
    "colab": {
      "name": "PytorchVariable_Tensor",
      "version": "0.3.2",
      "provenance": [],
      "collapsed_sections": [],
      "toc_visible": true
    },
    "kernelspec": {
      "display_name": "Python 2",
      "name": "python2"
    }
  },
  "cells": [
    {
      "metadata": {
        "colab_type": "text",
        "id": "BlmQIFSLZDdc"
      },
      "cell_type": "markdown",
      "source": [
        "# Confirm TensorFlow can see the GPU\n",
        "\n",
        "Simply select \"GPU\" in the Accelerator drop-down in Notebook Settings (either through the Edit menu or the command palette at cmd/ctrl-shift-P)."
      ]
    },
    {
      "metadata": {
        "id": "9k8UvXCureNV",
        "colab_type": "code",
        "colab": {}
      },
      "cell_type": "code",
      "source": [
        "### Tensor, variable "
      ],
      "execution_count": 0,
      "outputs": []
    },
    {
      "metadata": {
        "id": "-in_5aySr9ov",
        "colab_type": "code",
        "colab": {}
      },
      "cell_type": "code",
      "source": [
        "# http://pytorch.org/\n",
        "from os.path import exists\n",
        "from wheel.pep425tags import get_abbr_impl, get_impl_ver, get_abi_tag\n",
        "platform = '{}{}-{}'.format(get_abbr_impl(), get_impl_ver(), get_abi_tag())\n",
        "cuda_output = !ldconfig -p|grep cudart.so|sed -e 's/.*\\.\\([0-9]*\\)\\.\\([0-9]*\\)$/cu\\1\\2/'\n",
        "accelerator = cuda_output[0] if exists('/dev/nvidia0') else 'cpu'\n",
        "\n",
        "!pip install -q http://download.pytorch.org/whl/{accelerator}/torch-0.4.1-{platform}-linux_x86_64.whl torchvision\n",
        "import torch\n",
        "import numpy as np"
      ],
      "execution_count": 0,
      "outputs": []
    },
    {
      "metadata": {
        "id": "wo_qC1cdsV8Q",
        "colab_type": "code",
        "outputId": "b75a4294-5956-4bd0-b254-fdd719cfe478",
        "colab": {
          "base_uri": "https://localhost:8080/",
          "height": 34
        }
      },
      "cell_type": "code",
      "source": [
        "# creating tensor by calling Constructor\n",
        "t=torch.Tensor([1.2,3.4])\n",
        "print(t)"
      ],
      "execution_count": 0,
      "outputs": [
        {
          "output_type": "stream",
          "text": [
            "tensor([1.2000, 3.4000])\n"
          ],
          "name": "stdout"
        }
      ]
    },
    {
      "metadata": {
        "id": "g_DbGmGusuwl",
        "colab_type": "code",
        "outputId": "40c35c2e-0c12-417d-e985-b037b4d32087",
        "colab": {
          "base_uri": "https://localhost:8080/",
          "height": 34
        }
      },
      "cell_type": "code",
      "source": [
        "# creating a tensor by calling factory method\n",
        "t1=torch.tensor([1,2,3])\n",
        "print(t1)"
      ],
      "execution_count": 0,
      "outputs": [
        {
          "output_type": "stream",
          "text": [
            "tensor([1, 2, 3])\n"
          ],
          "name": "stdout"
        }
      ]
    },
    {
      "metadata": {
        "id": "30A0UEg9s6AJ",
        "colab_type": "code",
        "colab": {}
      },
      "cell_type": "code",
      "source": [
        "from torch.autograd import Variable"
      ],
      "execution_count": 0,
      "outputs": []
    },
    {
      "metadata": {
        "id": "1x93seYmtHSP",
        "colab_type": "code",
        "outputId": "a36a89cd-6592-4594-e637-84c4d40e2c72",
        "colab": {
          "base_uri": "https://localhost:8080/",
          "height": 85
        }
      },
      "cell_type": "code",
      "source": [
        "# variable declaration\n",
        "v=Variable(torch.Tensor([[1,2,3],[4,5,6]]), requires_grad=True)\n",
        "print(v)\n",
        "print(v.size())\n",
        "print(v.dim())"
      ],
      "execution_count": 0,
      "outputs": [
        {
          "output_type": "stream",
          "text": [
            "tensor([[1., 2., 3.],\n",
            "        [4., 5., 6.]], requires_grad=True)\n",
            "torch.Size([2, 3])\n",
            "2\n"
          ],
          "name": "stdout"
        }
      ]
    },
    {
      "metadata": {
        "id": "mbT_VBA3zgVw",
        "colab_type": "code",
        "outputId": "97791bb9-5989-477f-978a-1da6ad444726",
        "colab": {
          "base_uri": "https://localhost:8080/",
          "height": 34
        }
      },
      "cell_type": "code",
      "source": [
        "# tensor from numpy array\n",
        "n=np.array([1,2,3,4])\n",
        "tn=torch.Tensor(n)\n",
        "print(tn)"
      ],
      "execution_count": 0,
      "outputs": [
        {
          "output_type": "stream",
          "text": [
            "tensor([1., 2., 3., 4.])\n"
          ],
          "name": "stdout"
        }
      ]
    },
    {
      "metadata": {
        "id": "NDS2NoDEz97U",
        "colab_type": "code",
        "outputId": "408ad46a-b108-49ab-b633-e9196b782bf8",
        "colab": {
          "base_uri": "https://localhost:8080/",
          "height": 51
        }
      },
      "cell_type": "code",
      "source": [
        "# int tensor, float tensor\n",
        "iT=torch.IntTensor([1,2,3,4])\n",
        "print(iT)\n",
        "\n",
        "# float tensor\n",
        "ITF=torch.FloatTensor([1.2,3.0,4.5])\n",
        "print(ITF)"
      ],
      "execution_count": 0,
      "outputs": [
        {
          "output_type": "stream",
          "text": [
            "tensor([1, 2, 3, 4], dtype=torch.int32)\n",
            "tensor([1.2000, 3.0000, 4.5000])\n"
          ],
          "name": "stdout"
        }
      ]
    },
    {
      "metadata": {
        "id": "mMRaQSMFtfAl",
        "colab_type": "code",
        "colab": {}
      },
      "cell_type": "code",
      "source": [
        "# #### VARIABLE ########################################################################"
      ],
      "execution_count": 0,
      "outputs": []
    },
    {
      "metadata": {
        "id": "rNk-yUHotjjk",
        "colab_type": "code",
        "outputId": "a169cf28-a883-4257-8ea1-5f6675b5bd55",
        "colab": {
          "base_uri": "https://localhost:8080/",
          "height": 51
        }
      },
      "cell_type": "code",
      "source": [
        "v=Variable(torch.Tensor([11.2]), requires_grad=True)\n",
        "\n",
        "y=v*2\n",
        "print('v=',v)\n",
        "print('y=',y)"
      ],
      "execution_count": 0,
      "outputs": [
        {
          "output_type": "stream",
          "text": [
            "('v=', tensor([11.2000], requires_grad=True))\n",
            "('y=', tensor([22.4000], grad_fn=<MulBackward>))\n"
          ],
          "name": "stdout"
        }
      ]
    },
    {
      "metadata": {
        "id": "Hw86RR-X4OYq",
        "colab_type": "code",
        "outputId": "1275fba1-0e32-4966-f228-ff9c0a8ea52f",
        "colab": {
          "base_uri": "https://localhost:8080/",
          "height": 51
        }
      },
      "cell_type": "code",
      "source": [
        "print(v.data)\n",
        "print(y.data)"
      ],
      "execution_count": 0,
      "outputs": [
        {
          "output_type": "stream",
          "text": [
            "tensor([11.2000])\n",
            "tensor([22.4000])\n"
          ],
          "name": "stdout"
        }
      ]
    },
    {
      "metadata": {
        "id": "fSaD80MK4mGL",
        "colab_type": "code",
        "outputId": "9a54f238-e655-4b78-cc4a-8798ca6da111",
        "colab": {
          "base_uri": "https://localhost:8080/",
          "height": 51
        }
      },
      "cell_type": "code",
      "source": [
        "### grad function\n",
        "print(v.grad_fn)\n",
        "print(y.grad_fn)"
      ],
      "execution_count": 0,
      "outputs": [
        {
          "output_type": "stream",
          "text": [
            "None\n",
            "<MulBackward object at 0x7fc42e983210>\n"
          ],
          "name": "stdout"
        }
      ]
    },
    {
      "metadata": {
        "id": "vxVw7wcm2A8H",
        "colab_type": "code",
        "colab": {}
      },
      "cell_type": "code",
      "source": [
        "### backward function\n",
        "y.backward()"
      ],
      "execution_count": 0,
      "outputs": []
    },
    {
      "metadata": {
        "id": "W5QcepXd5DjB",
        "colab_type": "code",
        "outputId": "111e2480-e6a8-444f-e712-fc89032347cf",
        "colab": {
          "base_uri": "https://localhost:8080/",
          "height": 51
        }
      },
      "cell_type": "code",
      "source": [
        "print(v.grad)\n",
        "print(y.grad)"
      ],
      "execution_count": 0,
      "outputs": [
        {
          "output_type": "stream",
          "text": [
            "tensor([2.])\n",
            "None\n"
          ],
          "name": "stdout"
        }
      ]
    }
  ]
}